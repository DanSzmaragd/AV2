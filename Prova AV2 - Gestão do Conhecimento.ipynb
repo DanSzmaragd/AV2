{
  "cells": [
    {
      "metadata": {},
      "cell_type": "markdown",
      "source": "DISCIPLINA: Gestão do Conhecimento\t PROFESSOR(A): Alex Salgado\nPERÍODO: 7o. TURNO: noite AVALIAÇÃO:\n\nALUNO(A): Daniel Louro Szmaragd\n\nGRAU: VISTO DO PROFESSOR:\n"
    },
    {
      "metadata": {},
      "cell_type": "markdown",
      "source": "# Questão 1 - valor (1,0)\n"
    },
    {
      "metadata": {},
      "cell_type": "markdown",
      "source": "*** Crie um repositório no Github e adicione este arquivo no mesmo\n\n\n1.1 - Você deve escolher uma base de dados aberta que seja possível treinar um modelo de aprendizagem de máquina Supervisionado de Classificação (assim como o exemplo da Iris e Cancer). A partir desta base de dados, você vai treinar o modelo, fazer previsões e calcular a acurácia do mesmo.\nObs.: Não utilizar nenhuma base de dados usada em aula ou nos trabalhos.\nAs bases de dados não poderá ser igual a do seu colega, dessa forma, preencha a planilha abaixo dizendo a sua base e seu tema. \nhttps://forms.gle/CvmN5fr4u2g5zoZRA\n\n\n** Para saber se já escolheram o mesmo que você, consulte no link abaixo.\nhttps://docs.google.com/spreadsheets/d/1E_GuH7C8vn_o-gyOeN5LavoQlByjVQb1UiVfP71OX3g/edit?usp=sharing\n"
    },
    {
      "metadata": {
        "trusted": true
      },
      "cell_type": "code",
      "source": "",
      "execution_count": null,
      "outputs": []
    },
    {
      "metadata": {},
      "cell_type": "markdown",
      "source": "1.2 - Após tratada, criar uma pasta no seu GoogleDrive e disponibilizar o link do arquivo de sua base (csv, xlsx, etc) para ser importado no seu código."
    },
    {
      "metadata": {
        "trusted": true
      },
      "cell_type": "code",
      "source": "https://drive.google.com/file/d/13FvifGaUWnbU19CE4CziRwXcOKuEfz_N/view?usp=sharing",
      "execution_count": null,
      "outputs": []
    },
    {
      "metadata": {},
      "cell_type": "markdown",
      "source": "## Criar um código usando o Jupyter Notebook e responder (através de código) às seguintes questões:\n"
    },
    {
      "metadata": {},
      "cell_type": "markdown",
      "source": "# Questão 2 - valor (1,0)"
    },
    {
      "metadata": {},
      "cell_type": "markdown",
      "source": "2.1 - Importar os modulos python para machine learn e carregar o arquivo \n\n** Sugestão se for do tipo xlsx, usar o read_excel do pandas\nimport pandas as pd\ndt = pd.read_excel(\"meuarquivo.xlsx\")\n"
    },
    {
      "metadata": {
        "trusted": true
      },
      "cell_type": "code",
      "source": "import pandas as pd\nfrom sklearn.linear_model import LogisticRegression\nfrom sklearn.model_selection import train_test_split\nfrom sklearn.neighbors import KNeighborsClassifier\nfrom sklearn import metrics\n\ndf = pd.read_csv('advertising.csv')",
      "execution_count": 33,
      "outputs": []
    },
    {
      "metadata": {},
      "cell_type": "markdown",
      "source": "2.2 - Exibir os primeiros registros desta tabela.\n"
    },
    {
      "metadata": {
        "trusted": true
      },
      "cell_type": "code",
      "source": "df.head()",
      "execution_count": 30,
      "outputs": [
        {
          "output_type": "execute_result",
          "execution_count": 30,
          "data": {
            "text/html": "<div>\n<table border=\"1\" class=\"dataframe\">\n  <thead>\n    <tr style=\"text-align: right;\">\n      <th></th>\n      <th>Daily Time Spent on Site</th>\n      <th>Age</th>\n      <th>Area Income</th>\n      <th>Daily Internet Usage</th>\n      <th>Ad Topic Line</th>\n      <th>City</th>\n      <th>Male</th>\n      <th>Country</th>\n      <th>Timestamp</th>\n      <th>Clicked on Ad</th>\n    </tr>\n  </thead>\n  <tbody>\n    <tr>\n      <th>0</th>\n      <td>68.95</td>\n      <td>35</td>\n      <td>61833.90</td>\n      <td>256.09</td>\n      <td>Cloned 5thgeneration orchestration</td>\n      <td>Wrightburgh</td>\n      <td>0</td>\n      <td>Tunisia</td>\n      <td>2016-03-27 00:53:11</td>\n      <td>0</td>\n    </tr>\n    <tr>\n      <th>1</th>\n      <td>80.23</td>\n      <td>31</td>\n      <td>68441.85</td>\n      <td>193.77</td>\n      <td>Monitored national standardization</td>\n      <td>West Jodi</td>\n      <td>1</td>\n      <td>Nauru</td>\n      <td>2016-04-04 01:39:02</td>\n      <td>0</td>\n    </tr>\n    <tr>\n      <th>2</th>\n      <td>69.47</td>\n      <td>26</td>\n      <td>59785.94</td>\n      <td>236.50</td>\n      <td>Organic bottom-line service-desk</td>\n      <td>Davidton</td>\n      <td>0</td>\n      <td>San Marino</td>\n      <td>2016-03-13 20:35:42</td>\n      <td>0</td>\n    </tr>\n    <tr>\n      <th>3</th>\n      <td>74.15</td>\n      <td>29</td>\n      <td>54806.18</td>\n      <td>245.89</td>\n      <td>Triple-buffered reciprocal time-frame</td>\n      <td>West Terrifurt</td>\n      <td>1</td>\n      <td>Italy</td>\n      <td>2016-01-10 02:31:19</td>\n      <td>0</td>\n    </tr>\n    <tr>\n      <th>4</th>\n      <td>68.37</td>\n      <td>35</td>\n      <td>73889.99</td>\n      <td>225.58</td>\n      <td>Robust logistical utilization</td>\n      <td>South Manuel</td>\n      <td>0</td>\n      <td>Iceland</td>\n      <td>2016-06-03 03:36:18</td>\n      <td>0</td>\n    </tr>\n  </tbody>\n</table>\n</div>",
            "text/plain": "   Daily Time Spent on Site  Age  Area Income  Daily Internet Usage  \\\n0                     68.95   35     61833.90                256.09   \n1                     80.23   31     68441.85                193.77   \n2                     69.47   26     59785.94                236.50   \n3                     74.15   29     54806.18                245.89   \n4                     68.37   35     73889.99                225.58   \n\n                           Ad Topic Line            City  Male     Country  \\\n0     Cloned 5thgeneration orchestration     Wrightburgh     0     Tunisia   \n1     Monitored national standardization       West Jodi     1       Nauru   \n2       Organic bottom-line service-desk        Davidton     0  San Marino   \n3  Triple-buffered reciprocal time-frame  West Terrifurt     1       Italy   \n4          Robust logistical utilization    South Manuel     0     Iceland   \n\n             Timestamp  Clicked on Ad  \n0  2016-03-27 00:53:11              0  \n1  2016-04-04 01:39:02              0  \n2  2016-03-13 20:35:42              0  \n3  2016-01-10 02:31:19              0  \n4  2016-06-03 03:36:18              0  "
          },
          "metadata": {}
        }
      ]
    },
    {
      "metadata": {},
      "cell_type": "markdown",
      "source": "2.3 - De que se trata esse banco de dados? e que tipo de previsão pode ser feito com ele?\n"
    },
    {
      "metadata": {
        "trusted": false
      },
      "cell_type": "markdown",
      "source": "São dados de publicidade de um site, contendo acesso de usuários em e permite fazer previsões sobre quem  "
    },
    {
      "metadata": {},
      "cell_type": "markdown",
      "source": "# Questão 3 - valor (0,5)\n"
    },
    {
      "metadata": {},
      "cell_type": "markdown",
      "source": "Utilizando as terminologias de Machine Learning(features e observações):\n\n"
    },
    {
      "metadata": {},
      "cell_type": "markdown",
      "source": "3.1 - Quantas \"features\" têm nessa base de dados?"
    },
    {
      "metadata": {
        "trusted": true
      },
      "cell_type": "code",
      "source": "df.columns",
      "execution_count": 31,
      "outputs": [
        {
          "output_type": "execute_result",
          "execution_count": 31,
          "data": {
            "text/plain": "Index(['Daily Time Spent on Site', 'Age', 'Area Income',\n       'Daily Internet Usage', 'Ad Topic Line', 'City', 'Male', 'Country',\n       'Timestamp', 'Clicked on Ad'],\n      dtype='object')"
          },
          "metadata": {}
        }
      ]
    },
    {
      "metadata": {},
      "cell_type": "markdown",
      "source": "A base contém 10 features."
    },
    {
      "metadata": {},
      "cell_type": "markdown",
      "source": "3.2 - Quantas observações têm nessa base de dados?\n"
    },
    {
      "metadata": {
        "trusted": true
      },
      "cell_type": "code",
      "source": "df.shape",
      "execution_count": 32,
      "outputs": [
        {
          "output_type": "execute_result",
          "execution_count": 32,
          "data": {
            "text/plain": "(1000, 10)"
          },
          "metadata": {}
        }
      ]
    },
    {
      "metadata": {},
      "cell_type": "markdown",
      "source": "# Questão 4 - valor (1,5)\n"
    },
    {
      "metadata": {},
      "cell_type": "markdown",
      "source": "4.1 - Faça uma previsão, usando o algoritmo de LogisticRegression."
    },
    {
      "metadata": {
        "trusted": true
      },
      "cell_type": "code",
      "source": "logreg = LogisticRegression()\n\ndf.drop(['Ad Topic Line', 'City', 'Country', 'Timestamp'], axis=1, inplace=True)",
      "execution_count": 34,
      "outputs": []
    },
    {
      "metadata": {
        "trusted": true
      },
      "cell_type": "code",
      "source": "X = df[['Daily Time Spent on Site','Age','Area Income','Daily Internet Usage','Male']]\ny = df['Clicked on Ad']",
      "execution_count": 35,
      "outputs": []
    },
    {
      "metadata": {
        "trusted": true
      },
      "cell_type": "code",
      "source": "logreg.fit(X,y)",
      "execution_count": 36,
      "outputs": [
        {
          "output_type": "execute_result",
          "execution_count": 36,
          "data": {
            "text/plain": "LogisticRegression(C=1.0, class_weight=None, dual=False, fit_intercept=True,\n          intercept_scaling=1, max_iter=100, multi_class='ovr', n_jobs=1,\n          penalty='l2', random_state=None, solver='liblinear', tol=0.0001,\n          verbose=0, warm_start=False)"
          },
          "metadata": {}
        }
      ]
    },
    {
      "metadata": {
        "trusted": true
      },
      "cell_type": "code",
      "source": "logreg.predict(X)",
      "execution_count": 37,
      "outputs": [
        {
          "output_type": "execute_result",
          "execution_count": 37,
          "data": {
            "text/plain": "array([0, 0, 0, 0, 0, 0, 0, 1, 0, 0, 1, 0, 1, 0, 1, 0, 1, 1, 1, 1, 0, 0,\n       1, 0, 1, 0, 1, 1, 1, 0, 0, 0, 1, 0, 1, 0, 1, 0, 1, 1, 0, 0, 0, 0,\n       0, 1, 0, 1, 1, 1, 0, 0, 1, 1, 1, 0, 1, 1, 0, 1, 0, 0, 0, 0, 1, 0,\n       1, 1, 0, 1, 1, 1, 1, 1, 1, 0, 1, 0, 1, 1, 0, 0, 1, 1, 0, 1, 0, 1,\n       1, 1, 1, 0, 0, 1, 1, 0, 1, 1, 1, 0, 1, 0, 0, 0, 0, 0, 0, 1, 1, 0,\n       1, 1, 0, 1, 0, 0, 1, 1, 1, 1, 0, 0, 0, 1, 1, 0, 1, 1, 0, 0, 1, 1,\n       1, 0, 1, 1, 1, 1, 0, 1, 0, 1, 1, 0, 1, 1, 1, 1, 1, 1, 0, 0, 1, 0,\n       0, 0, 1, 0, 0, 0, 0, 0, 0, 0, 1, 1, 1, 0, 1, 0, 1, 1, 0, 0, 1, 0,\n       1, 0, 1, 0, 1, 0, 1, 0, 0, 1, 1, 0, 0, 1, 1, 1, 1, 1, 0, 1, 1, 0,\n       0, 0, 0, 0, 1, 0, 0, 1, 0, 0, 1, 1, 0, 1, 0, 1, 0, 0, 1, 1, 1, 1,\n       0, 0, 1, 1, 1, 0, 1, 1, 0, 0, 0, 1, 1, 0, 1, 1, 1, 0, 1, 0, 1, 1,\n       0, 0, 0, 1, 1, 0, 1, 0, 0, 1, 0, 1, 1, 0, 0, 1, 0, 0, 0, 1, 1, 1,\n       0, 1, 0, 0, 0, 0, 1, 0, 0, 0, 0, 1, 0, 0, 0, 0, 1, 0, 1, 0, 1, 0,\n       0, 0, 1, 0, 0, 0, 1, 0, 0, 0, 0, 0, 0, 0, 0, 1, 1, 1, 1, 0, 0, 0,\n       0, 1, 0, 1, 0, 0, 0, 1, 0, 0, 0, 1, 1, 0, 0, 0, 0, 1, 1, 0, 0, 0,\n       0, 0, 1, 0, 0, 1, 0, 0, 0, 0, 1, 1, 0, 0, 0, 0, 0, 1, 0, 0, 0, 0,\n       0, 1, 1, 0, 1, 1, 1, 0, 1, 1, 0, 1, 0, 1, 0, 0, 0, 0, 1, 1, 0, 1,\n       0, 0, 0, 1, 0, 0, 0, 1, 0, 0, 0, 0, 0, 1, 0, 1, 0, 1, 0, 0, 1, 0,\n       1, 0, 0, 0, 1, 0, 1, 0, 1, 0, 1, 1, 1, 1, 1, 0, 0, 1, 0, 1, 1, 0,\n       0, 1, 1, 1, 1, 1, 1, 1, 1, 0, 1, 0, 0, 0, 1, 0, 0, 1, 0, 0, 1, 0,\n       1, 0, 1, 1, 1, 0, 1, 1, 1, 0, 0, 0, 0, 0, 1, 0, 1, 0, 1, 0, 1, 1,\n       0, 1, 1, 1, 0, 0, 1, 0, 1, 0, 0, 0, 1, 0, 0, 1, 1, 0, 0, 0, 0, 1,\n       1, 1, 1, 0, 1, 0, 1, 1, 0, 0, 1, 0, 0, 1, 0, 1, 1, 0, 0, 1, 1, 0,\n       0, 1, 1, 0, 0, 0, 0, 1, 0, 1, 0, 0, 1, 1, 1, 0, 0, 1, 0, 1, 1, 0,\n       1, 0, 1, 1, 1, 0, 0, 0, 0, 0, 0, 0, 0, 0, 0, 1, 0, 1, 0, 0, 0, 0,\n       0, 0, 1, 1, 1, 0, 1, 0, 0, 0, 1, 1, 1, 1, 1, 0, 1, 0, 1, 0, 1, 0,\n       0, 0, 1, 1, 1, 0, 0, 0, 1, 1, 0, 1, 0, 1, 0, 1, 0, 1, 0, 1, 0, 0,\n       1, 1, 0, 0, 0, 1, 1, 1, 1, 0, 1, 1, 0, 0, 1, 0, 1, 1, 0, 0, 0, 1,\n       1, 0, 1, 0, 0, 0, 1, 0, 0, 0, 0, 1, 1, 0, 0, 0, 0, 1, 1, 1, 1, 0,\n       1, 0, 1, 0, 0, 0, 1, 1, 1, 1, 0, 0, 0, 0, 0, 1, 0, 1, 0, 1, 0, 0,\n       1, 0, 1, 1, 0, 0, 0, 0, 0, 1, 0, 1, 0, 1, 0, 0, 1, 1, 0, 1, 0, 1,\n       1, 0, 1, 0, 0, 0, 0, 0, 0, 0, 1, 1, 0, 0, 1, 0, 0, 0, 0, 1, 0, 0,\n       0, 0, 0, 0, 1, 1, 1, 0, 0, 1, 0, 1, 1, 0, 1, 1, 0, 1, 1, 1, 0, 0,\n       0, 0, 0, 0, 0, 0, 0, 1, 0, 0, 0, 1, 1, 0, 1, 0, 0, 1, 0, 1, 0, 1,\n       1, 1, 1, 0, 0, 0, 0, 0, 1, 1, 0, 0, 0, 0, 1, 0, 1, 1, 0, 1, 1, 0,\n       0, 0, 0, 1, 1, 1, 0, 0, 1, 0, 1, 1, 0, 0, 1, 1, 0, 0, 0, 1, 1, 1,\n       0, 1, 1, 0, 0, 0, 1, 0, 1, 1, 1, 1, 1, 0, 1, 1, 1, 1, 1, 0, 0, 0,\n       0, 0, 1, 0, 0, 0, 1, 0, 0, 0, 0, 0, 0, 1, 1, 1, 1, 1, 1, 1, 0, 0,\n       1, 1, 1, 1, 1, 1, 0, 0, 0, 1, 1, 0, 0, 1, 0, 1, 1, 0, 0, 0, 0, 0,\n       1, 0, 1, 0, 0, 0, 1, 1, 0, 0, 0, 0, 0, 0, 0, 0, 0, 1, 1, 0, 0, 0,\n       1, 0, 0, 1, 0, 1, 1, 1, 0, 1, 0, 0, 1, 0, 0, 0, 0, 1, 1, 1, 1, 1,\n       1, 0, 0, 0, 1, 0, 1, 0, 1, 1, 1, 0, 1, 1, 1, 0, 0, 0, 0, 1, 1, 1,\n       1, 1, 0, 0, 0, 1, 0, 1, 1, 1, 0, 0, 1, 1, 1, 0, 1, 1, 1, 1, 1, 0,\n       0, 1, 0, 1, 1, 0, 0, 1, 0, 1, 1, 0, 0, 0, 1, 0, 0, 1, 0, 1, 1, 0,\n       1, 0, 1, 1, 1, 0, 1, 1, 1, 1, 0, 0, 1, 1, 1, 0, 0, 1, 0, 1, 1, 0,\n       1, 1, 1, 0, 0, 0, 1, 1, 0, 0])"
          },
          "metadata": {}
        }
      ]
    },
    {
      "metadata": {
        "trusted": true
      },
      "cell_type": "code",
      "source": "y_pred = logreg.predict(X)\n\nlen(y_pred)",
      "execution_count": 38,
      "outputs": [
        {
          "output_type": "execute_result",
          "execution_count": 38,
          "data": {
            "text/plain": "1000"
          },
          "metadata": {}
        }
      ]
    },
    {
      "metadata": {
        "trusted": true
      },
      "cell_type": "code",
      "source": "print(metrics.accuracy_score(y, y_pred))",
      "execution_count": 39,
      "outputs": [
        {
          "output_type": "stream",
          "text": "0.897\n",
          "name": "stdout"
        }
      ]
    },
    {
      "metadata": {},
      "cell_type": "markdown",
      "source": "# Questão 5 - valor (2,0)\n"
    },
    {
      "metadata": {},
      "cell_type": "markdown",
      "source": "Usando o método de avaliação de acurácia (Treinar e testar na base de dados inteira/Train test entire model), Calcular a acurácia de cada um dos 3 métodos abaixo."
    },
    {
      "metadata": {},
      "cell_type": "markdown",
      "source": "4.1 - Acurácia usando o algoritmo de KNN (com 1 vizinho, k=1)\n"
    },
    {
      "metadata": {
        "trusted": true
      },
      "cell_type": "code",
      "source": "X_train, X_test, y_train, y_test = train_test_split(X,y,test_size=0.3,random_state=101)\n\nknn = KNeighborsClassifier(n_neighbors=1)\n\nknn.fit(X_train, y_train)\ny_pred = knn.predict(X_test)\n\nprint(metrics.accuracy_score(y_test, y_pred))",
      "execution_count": 48,
      "outputs": [
        {
          "output_type": "stream",
          "text": "0.7966666666666666\n",
          "name": "stdout"
        }
      ]
    },
    {
      "metadata": {},
      "cell_type": "markdown",
      "source": "4.2 - Acurácia usando o algoritmo de KNN (com 5 vizinho, k=5)\n"
    },
    {
      "metadata": {
        "trusted": true
      },
      "cell_type": "code",
      "source": "knn = KNeighborsClassifier(n_neighbors=5)\n\nknn.fit(X, y)\ny_pred = knn.predict(X)\n\nprint(metrics.accuracy_score(y, y_pred))",
      "execution_count": 49,
      "outputs": [
        {
          "output_type": "stream",
          "text": "0.82\n",
          "name": "stdout"
        }
      ]
    },
    {
      "metadata": {},
      "cell_type": "markdown",
      "source": "4.3 - Acurácia usando o algoritmo de LogisticRegression\n"
    },
    {
      "metadata": {
        "trusted": true
      },
      "cell_type": "code",
      "source": "logreg.fit(X_train, y_train)\ny_pred = logreg.predict(X_test)\n\nprint(metrics.accuracy_score(y_test, y_pred))",
      "execution_count": 50,
      "outputs": [
        {
          "output_type": "stream",
          "text": "0.9233333333333333\n",
          "name": "stdout"
        }
      ]
    },
    {
      "metadata": {},
      "cell_type": "markdown",
      "source": "4.4 - De acordo com seus resultados anteriores, qual dos 3 métodos é mais eficiente?\n"
    },
    {
      "metadata": {
        "trusted": false
      },
      "cell_type": "markdown",
      "source": "O mais eficiente é o método KNN(1)."
    },
    {
      "metadata": {
        "trusted": true
      },
      "cell_type": "code",
      "source": "*** Envie o link do seu Github com essa resposta no Classroom\n",
      "execution_count": null,
      "outputs": []
    }
  ],
  "metadata": {
    "kernelspec": {
      "name": "python3",
      "display_name": "Python 3",
      "language": "python"
    },
    "language_info": {
      "mimetype": "text/x-python",
      "nbconvert_exporter": "python",
      "name": "python",
      "file_extension": ".py",
      "version": "3.5.4",
      "pygments_lexer": "ipython3",
      "codemirror_mode": {
        "version": 3,
        "name": "ipython"
      }
    }
  },
  "nbformat": 4,
  "nbformat_minor": 2
}